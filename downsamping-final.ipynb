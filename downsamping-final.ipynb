{
 "cells": [
  {
   "cell_type": "code",
   "execution_count": 74,
   "metadata": {
    "collapsed": false
   },
   "outputs": [],
   "source": [
    "import warnings\n",
    "warnings.filterwarnings('ignore')\n",
    "import pickle\n",
    "transformed_df = pickle.load(open(\"dataframe.p\",\"r\"))\n"
   ]
  },
  {
   "cell_type": "code",
   "execution_count": 75,
   "metadata": {
    "collapsed": false
   },
   "outputs": [
    {
     "name": "stdout",
     "output_type": "stream",
     "text": [
      "(13342, 98)\n",
      "(13342, 98)\n"
     ]
    },
    {
     "data": {
      "text/plain": [
       "26684"
      ]
     },
     "execution_count": 75,
     "metadata": {},
     "output_type": "execute_result"
    }
   ],
   "source": [
    "default_class = transformed_df[transformed_df['loan_status'] ==  1]\n",
    "non_default_class = transformed_df[transformed_df['loan_status'] ==  0]\n",
    "non_default_class = non_default_class.sample(n= default_class.shape[0]) \n",
    "undersampled_df = default_class.append(non_default_class, ignore_index=True)\n",
    "undersampled_df = undersampled_df.sample(frac=1)\n",
    "undersampled_df.shape[0]"
   ]
  },
  {
   "cell_type": "code",
   "execution_count": 76,
   "metadata": {
    "collapsed": false
   },
   "outputs": [],
   "source": [
    "import sklearn\n",
    "from  sklearn.model_selection import train_test_split\n",
    "X = undersampled_df.drop('loan_status', axis=1)\n",
    "Y= undersampled_df['loan_status']\n",
    "X_train, X_test, y_train, y_test = train_test_split(X,Y, test_size=0.3, random_state=1)\n"
   ]
  },
  {
   "cell_type": "markdown",
   "metadata": {},
   "source": [
    "## Random Forest Classifier with undersampled dataset\n",
    "#### I Used the Clustering algorithms for the data for which I replace NAN with the mean and checked the performance.\n",
    "#### The performance doesn't vary much with the generated Data and is more or less the same as the Regression_NAN notebook results."
   ]
  },
  {
   "cell_type": "code",
   "execution_count": 77,
   "metadata": {
    "collapsed": false
   },
   "outputs": [
    {
     "name": "stdout",
     "output_type": "stream",
     "text": [
      "Accuray of Random Forest Classifier is =  0.694354234324\n",
      "Roc auc score =  0.693946099907\n",
      "Confusion Matrix \n",
      "[[2383 1603]\n",
      " [ 844 3176]]\n",
      "Classification Report \n",
      "             precision    recall  f1-score   support\n",
      "\n",
      "          0       0.74      0.60      0.66      3986\n",
      "          1       0.66      0.79      0.72      4020\n",
      "\n",
      "avg / total       0.70      0.69      0.69      8006\n",
      "\n",
      "Cross validation score 0.702068673419\n"
     ]
    }
   ],
   "source": [
    "import sklearn\n",
    "from sklearn.ensemble import RandomForestClassifier\n",
    "from sklearn.cross_validation import cross_val_score\n",
    "X_train, X_test, y_train, y_test = sklearn.model_selection.train_test_split(X,Y, test_size=0.3, random_state=1)\n",
    "model = RandomForestClassifier(n_estimators=90,max_depth=15,max_features=20)\n",
    "features = model.fit(X_train, y_train)\n",
    "predicted = model.predict(X_test)\n",
    "# generate class probabilities\n",
    "probs = model.predict_proba(X_test)\n",
    "print \"Accuray of Random Forest Classifier is = \", sklearn.metrics.accuracy_score(y_test, predicted)\n",
    "print \"Roc auc score = \", sklearn.metrics.roc_auc_score(y_test, predicted)\n",
    "print \"Confusion Matrix \\n\", sklearn.metrics.confusion_matrix(y_test, predicted)\n",
    "print \"Classification Report \\n\",sklearn.metrics.classification_report(y_test, predicted)\n",
    "scores = cross_val_score(model, X, Y, cv = 5)\n",
    "print \"Cross validation score\", scores.mean()\n",
    "\n"
   ]
  },
  {
   "cell_type": "code",
   "execution_count": 87,
   "metadata": {
    "collapsed": false
   },
   "outputs": [
    {
     "data": {
      "image/png": "[encoded data removed]",
      "text/plain": [
       "<matplotlib.figure.Figure at 0x2208ba58>"
      ]
     },
     "metadata": {},
     "output_type": "display_data"
    }
   ],
   "source": [
    "import matplotlib.pyplot as plt\n",
    "false_positive_rate, true_positive_rate, thresholds = sklearn.metrics.roc_curve(y_test,probs[:,1])\n",
    "roc_auc = sklearn.metrics.auc(false_positive_rate, true_positive_rate)\n",
    "plt.title('Receiver Operating Characteristic')\n",
    "plt.plot(false_positive_rate, true_positive_rate, 'b',\n",
    "label='AUC = %0.2f'% roc_auc)\n",
    "plt.legend(loc='lower right')\n",
    "plt.plot([0,1],[0,1],'r--')\n",
    "plt.xlim([-0.1,1.2])\n",
    "plt.ylim([-0.1,1.2])\n",
    "plt.ylabel('True Positive Rate')\n",
    "plt.xlabel('False Positive Rate')\n",
    "plt.show()"
   ]
  },
  {
   "cell_type": "markdown",
   "metadata": {},
   "source": [
    "## Logistic Regression with undersampled dataset"
   ]
  },
  {
   "cell_type": "code",
   "execution_count": 88,
   "metadata": {
    "collapsed": false
   },
   "outputs": [
    {
     "name": "stdout",
     "output_type": "stream",
     "text": [
      "Accuray of Logistic Regression Classifier is =  0.679115663253\n",
      "Roc auc score =  0.679251509637\n",
      "Confusion Matrix \n",
      "[[2835 1151]\n",
      " [1418 2602]]\n",
      "Classification Report \n",
      "             precision    recall  f1-score   support\n",
      "\n",
      "          0       0.67      0.71      0.69      3986\n",
      "          1       0.69      0.65      0.67      4020\n",
      "\n",
      "avg / total       0.68      0.68      0.68      8006\n",
      "\n",
      "Cross validation score 0.683181081808\n"
     ]
    }
   ],
   "source": [
    "from sklearn.linear_model import LogisticRegression\n",
    "model = LogisticRegression(penalty='l1')\n",
    "features = model.fit(X_train, y_train)\n",
    "predicted = model.predict(X_test)\n",
    "probs = model.predict_proba(X_test)\n",
    "print \"Accuray of Logistic Regression Classifier is = \", sklearn.metrics.accuracy_score(y_test, predicted)\n",
    "print \"Roc auc score = \", sklearn.metrics.roc_auc_score(y_test, predicted)\n",
    "print \"Confusion Matrix \\n\", sklearn.metrics.confusion_matrix(y_test, predicted)\n",
    "print \"Classification Report \\n\",sklearn.metrics.classification_report(y_test, predicted)\n",
    "scores = cross_val_score(model, X, Y, cv = 5)\n",
    "print \"Cross validation score\", scores.mean()"
   ]
  },
  {
   "cell_type": "code",
   "execution_count": 89,
   "metadata": {
    "collapsed": false
   },
   "outputs": [
    {
     "data": {
      "image/png": "[encoded data removed]",
      "text/plain": [
       "<matplotlib.figure.Figure at 0x222825f8>"
      ]
     },
     "metadata": {},
     "output_type": "display_data"
    }
   ],
   "source": [
    "false_positive_rate, true_positive_rate, thresholds = sklearn.metrics.roc_curve(y_test,probs[:,1])\n",
    "roc_auc = sklearn.metrics.auc(false_positive_rate, true_positive_rate)\n",
    "\n",
    "plt.title('Receiver Operating Characteristic')\n",
    "plt.plot(false_positive_rate, true_positive_rate, 'b',\n",
    "label='AUC = %0.2f'% roc_auc)\n",
    "plt.legend(loc='lower right')\n",
    "plt.plot([0,1],[0,1],'r--')\n",
    "plt.xlim([-0.1,1.2])\n",
    "plt.ylim([-0.1,1.2])\n",
    "plt.ylabel('True Positive Rate')\n",
    "plt.xlabel('False Positive Rate')\n",
    "plt.show()"
   ]
  },
  {
   "cell_type": "markdown",
   "metadata": {},
   "source": [
    "## Ensemble method after clustering non default class using kmeans clustering\n",
    "\n",
    "### This was the experimentation section where I grouped the non_default class and took stratified representation from each cluster to down sample the data."
   ]
  },
  {
   "cell_type": "code",
   "execution_count": 91,
   "metadata": {
    "collapsed": true
   },
   "outputs": [],
   "source": [
    "X = transformed_df.drop('loan_status', axis=1)\n",
    "Y= transformed_df['loan_status']\n",
    "X_train, X_test, y_train, y_test = train_test_split(X,Y, test_size=0.3, random_state=1)\n"
   ]
  },
  {
   "cell_type": "markdown",
   "metadata": {},
   "source": [
    "#### Applying kmeans to non default class"
   ]
  },
  {
   "cell_type": "code",
   "execution_count": 92,
   "metadata": {
    "collapsed": false
   },
   "outputs": [],
   "source": [
    "from sklearn.cluster import KMeans\n",
    "default_class = transformed_df[transformed_df['loan_status'] ==  1]\n",
    "non_default_class = transformed_df[transformed_df['loan_status'] ==  0]\n",
    "non_default_class = non_default_class.drop('loan_status',axis=1) \n",
    "kmeans = KMeans(n_clusters=10, random_state=0).fit(non_default_class)\n"
   ]
  },
  {
   "cell_type": "markdown",
   "metadata": {},
   "source": [
    "#### Grouping non default class instances to its clusters"
   ]
  },
  {
   "cell_type": "code",
   "execution_count": 93,
   "metadata": {
    "collapsed": false
   },
   "outputs": [],
   "source": [
    "import numpy as np\n",
    "non_default_class_dict = dict()\n",
    "labels = kmeans.labels_\n",
    "non_default_class = np.array(non_default_class)\n",
    "for i in xrange(len(kmeans.labels_)):\n",
    "    if labels[i] not in non_default_class_dict:\n",
    "         non_default_class_dict[labels[i]] = []\n",
    "    non_default_class_dict[labels[i]].append(non_default_class[i])\n",
    "   "
   ]
  },
  {
   "cell_type": "markdown",
   "metadata": {},
   "source": [
    "#### Combining default class instances with non default class instances to form different datasets"
   ]
  },
  {
   "cell_type": "code",
   "execution_count": 94,
   "metadata": {
    "collapsed": false
   },
   "outputs": [],
   "source": [
    "default_class = transformed_df[transformed_df['loan_status'] ==  1]\n",
    "default_class = default_class.drop('loan_status',axis=1)\n",
    "datasets = []\n",
    "threshold = 3000\n",
    "for label in non_default_class_dict:\n",
    "    if len(non_default_class_dict[label]) > threshold:\n",
    "        Y = [1 for i in xrange(default_class.shape[0])]\n",
    "        Z = [0 for j in xrange(len(non_default_class_dict[label]))]\n",
    "        Y.extend(Z)\n",
    "        X = np.array(default_class)\n",
    "        df2 = non_default_class_dict[label]\n",
    "        X = np.concatenate((X,df2), axis=0)\n",
    "        datasets.append((X,Y))"
   ]
  },
  {
   "cell_type": "markdown",
   "metadata": {},
   "source": [
    "#### Fitting different logistic regression models"
   ]
  },
  {
   "cell_type": "code",
   "execution_count": 95,
   "metadata": {
    "collapsed": false
   },
   "outputs": [],
   "source": [
    "def final_predicted_values(model, threshold):\n",
    "    predicted_values = []\n",
    "    for i in xrange(num_of_datasets):\n",
    "        predicted_values.append(model[i].predict(X_test))\n",
    "\n",
    "    final_predicted = []\n",
    "    for i in xrange(X_test.shape[0]):\n",
    "        values = []\n",
    "        for j in xrange(num_of_datasets):\n",
    "            values.append(predicted_values[j][i])\n",
    "        if values.count(1) > threshold:\n",
    "            final_predicted.append(1)\n",
    "        else:\n",
    "            final_predicted.append(0)\n",
    "    return final_predicted"
   ]
  },
  {
   "cell_type": "code",
   "execution_count": 96,
   "metadata": {
    "collapsed": true
   },
   "outputs": [],
   "source": [
    "num_of_datasets = 5\n",
    "model = []\n",
    "for i in xrange(num_of_datasets):\n",
    "    model.append(LogisticRegression(class_weight='balanced',penalty='l1'))\n",
    "    model[i].fit(datasets[i][0], datasets[i][1])"
   ]
  },
  {
   "cell_type": "code",
   "execution_count": 97,
   "metadata": {
    "collapsed": true
   },
   "outputs": [],
   "source": [
    "final_predicted = final_predicted_values(model,3)"
   ]
  },
  {
   "cell_type": "code",
   "execution_count": 98,
   "metadata": {
    "collapsed": false
   },
   "outputs": [
    {
     "name": "stdout",
     "output_type": "stream",
     "text": [
      "Accuray of Ensemble Logistic Regression Classifier is =  0.628631431572\n",
      "Roc auc score =  0.664391377544\n",
      "Confusion Matrix \n",
      "[[34924 21116]\n",
      " [ 1165  2792]]\n",
      "Classification Report \n",
      "             precision    recall  f1-score   support\n",
      "\n",
      "          0       0.97      0.62      0.76     56040\n",
      "          1       0.12      0.71      0.20      3957\n",
      "\n",
      "avg / total       0.91      0.63      0.72     59997\n",
      "\n"
     ]
    }
   ],
   "source": [
    "print \"Accuray of Ensemble Logistic Regression Classifier is = \", sklearn.metrics.accuracy_score(y_test, final_predicted)\n",
    "print \"Roc auc score = \", sklearn.metrics.roc_auc_score(y_test, final_predicted)\n",
    "print \"Confusion Matrix \\n\", sklearn.metrics.confusion_matrix(y_test, final_predicted)\n",
    "print \"Classification Report \\n\",sklearn.metrics.classification_report(y_test, final_predicted)"
   ]
  },
  {
   "cell_type": "markdown",
   "metadata": {},
   "source": [
    "### Ensemble based Random forest classifier\n",
    "\n",
    "##### Here I tried an ensemble of weak random forest classifiers and tried to fit the model and this gave the best result when compared to all other models. ( Accuracy ~ 94 % , precision ~ 0.93 , Recall ~0.94 % )"
   ]
  },
  {
   "cell_type": "code",
   "execution_count": 60,
   "metadata": {
    "collapsed": true
   },
   "outputs": [],
   "source": [
    "from sklearn.ensemble import RandomForestClassifier\n",
    "model = []\n",
    "for i in xrange(num_of_datasets):\n",
    "    model.append(RandomForestClassifier(n_estimators=90,max_depth=15,max_features=20,class_weight='balanced'))\n",
    "    model[i].fit(datasets[i][0], datasets[i][1])"
   ]
  },
  {
   "cell_type": "code",
   "execution_count": 61,
   "metadata": {
    "collapsed": true
   },
   "outputs": [],
   "source": [
    "final_predicted = final_predicted_values(model,4)"
   ]
  },
  {
   "cell_type": "code",
   "execution_count": 62,
   "metadata": {
    "collapsed": false
   },
   "outputs": [
    {
     "name": "stdout",
     "output_type": "stream",
     "text": [
      "Accuray of Ensemble Random Forest Classifier is =  0.941480407354\n",
      "Roc auc score =  0.654767322053\n",
      "Confusion Matrix \n",
      "[[55202   838]\n",
      " [ 2673  1284]]\n",
      "Classification Report \n",
      "             precision    recall  f1-score   support\n",
      "\n",
      "          0       0.95      0.99      0.97     56040\n",
      "          1       0.61      0.32      0.42      3957\n",
      "\n",
      "avg / total       0.93      0.94      0.93     59997\n",
      "\n"
     ]
    }
   ],
   "source": [
    "print \"Accuray of Ensemble Random Forest Classifier is = \", sklearn.metrics.accuracy_score(y_test, final_predicted)\n",
    "print \"Roc auc score = \", sklearn.metrics.roc_auc_score(y_test, final_predicted)\n",
    "print \"Confusion Matrix \\n\", sklearn.metrics.confusion_matrix(y_test, final_predicted)\n",
    "print \"Classification Report \\n\",sklearn.metrics.classification_report(y_test, final_predicted)"
   ]
  }
 ],
 "metadata": {
  "kernelspec": {
   "display_name": "Python 2",
   "language": "python",
   "name": "python2"
  },
  "language_info": {
   "codemirror_mode": {
    "name": "ipython",
    "version": 2
   },
   "file_extension": ".py",
   "mimetype": "text/x-python",
   "name": "python",
   "nbconvert_exporter": "python",
   "pygments_lexer": "ipython2",
   "version": "2.7.13"
  }
 },
 "nbformat": 4,
 "nbformat_minor": 2
}
