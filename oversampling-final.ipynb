{
 "cells": [
  {
   "cell_type": "code",
   "execution_count": 1,
   "metadata": {
    "collapsed": false
   },
   "outputs": [],
   "source": [
    "import warnings\n",
    "warnings.filterwarnings('ignore')\n",
    "\n",
    "import pickle\n",
    "transformed_df = pickle.load(open(\"dataframe.p\",\"r\"))\n",
    "\n",
    "X = transformed_df.drop('loan_status', axis=1)\n",
    "Y= transformed_df['loan_status']\n",
    "\n"
   ]
  },
  {
   "cell_type": "markdown",
   "metadata": {},
   "source": [
    "## Upsampling dataset to balance both the classes\n",
    "\n",
    "##### In this Notebook I try out the performance of the classification algorithm by Upsampling the minority group by repeated sampling until equal representation"
   ]
  },
  {
   "cell_type": "code",
   "execution_count": 2,
   "metadata": {
    "collapsed": false
   },
   "outputs": [],
   "source": [
    "import numpy as np\n",
    "x_new = []\n",
    "y_new = []\n",
    "X = np.array(X)\n",
    "Y = np.array(Y)\n",
    "for i in xrange(len(X)):\n",
    "    if Y[i] == 1:\n",
    "        for j in range(14):\n",
    "            x_new.append(X[i])\n",
    "            y_new.append(Y[i])\n",
    "    else:\n",
    "        x_new.append(X[i])\n",
    "        y_new.append(Y[i])"
   ]
  },
  {
   "cell_type": "code",
   "execution_count": 5,
   "metadata": {
    "collapsed": true
   },
   "outputs": [],
   "source": [
    "X_train, X_test, y_train, y_test = sklearn.model_selection.train_test_split(x_new,y_new, test_size=0.3, random_state=1)"
   ]
  },
  {
   "cell_type": "markdown",
   "metadata": {},
   "source": [
    "### Logistic Regression Performance on upsampled data\n",
    "\n",
    "##### Fit a Logistic Regression Model with L1 Norm and checked the performance by Accuracy, Precision, Recall, F1-Score and AUC curve. I use 5-fold Cross Validation to ensure that the model doesn't overfit and take the max of the avg. cv score. \n",
    "##### I have used the best result in this after running the model with different parameter settings."
   ]
  },
  {
   "cell_type": "code",
   "execution_count": 6,
   "metadata": {
    "collapsed": false
   },
   "outputs": [
    {
     "name": "stdout",
     "output_type": "stream",
     "text": [
      "Accuray of Logistic Regression Classifier is =  0.682043362998\n",
      "Roc auc score =  0.682106318558\n",
      "Confusion Matrix \n",
      "[[40102 15813]\n",
      " [19808 36308]]\n",
      "Classification Report \n",
      "             precision    recall  f1-score   support\n",
      "\n",
      "          0       0.67      0.72      0.69     55915\n",
      "          1       0.70      0.65      0.67     56116\n",
      "\n",
      "avg / total       0.68      0.68      0.68    112031\n",
      "\n",
      "Cross validation score 0.932771301131\n"
     ]
    }
   ],
   "source": [
    "from sklearn.linear_model import LogisticRegression\n",
    "model = LogisticRegression(penalty='l1')\n",
    "features = model.fit(X_train, y_train)\n",
    "predicted = model.predict(X_test)\n",
    "probs = model.predict_proba(X_test)\n",
    "print \"Accuray of Logistic Regression Classifier is = \", sklearn.metrics.accuracy_score(y_test, predicted)\n",
    "print \"Roc auc score = \", sklearn.metrics.roc_auc_score(y_test, predicted)\n",
    "print \"Confusion Matrix \\n\", sklearn.metrics.confusion_matrix(y_test, predicted)\n",
    "print \"Classification Report \\n\",sklearn.metrics.classification_report(y_test, predicted)\n",
    "scores = cross_val_score(model, X, Y, cv = 5)\n",
    "print \"Cross validation score\", scores.mean()"
   ]
  },
  {
   "cell_type": "code",
   "execution_count": 9,
   "metadata": {
    "collapsed": true
   },
   "outputs": [],
   "source": [
    "false_positive_rate, true_positive_rate, thresholds = roc_curve(y_test,probs[:,1])\n",
    "roc_auc = auc(false_positive_rate, true_positive_rate)"
   ]
  },
  {
   "cell_type": "code",
   "execution_count": 10,
   "metadata": {
    "collapsed": false
   },
   "outputs": [
    {
     "data": {
      "image/png": "[encoded data removed]",
      "text/plain": [
       "<matplotlib.figure.Figure at 0x169fdcc0>"
      ]
     },
     "metadata": {},
     "output_type": "display_data"
    }
   ],
   "source": [
    "plt.title('Receiver Operating Characteristic')\n",
    "plt.plot(false_positive_rate, true_positive_rate, 'b',\n",
    "label='AUC = %0.2f'% roc_auc)\n",
    "plt.legend(loc='lower right')\n",
    "plt.plot([0,1],[0,1],'r--')\n",
    "plt.xlim([-0.1,1.2])\n",
    "plt.ylim([-0.1,1.2])\n",
    "plt.ylabel('True Positive Rate')\n",
    "plt.xlabel('False Positive Rate')\n",
    "plt.show()"
   ]
  },
  {
   "cell_type": "markdown",
   "metadata": {},
   "source": [
    "### Random Forest Classifier on upsampled data\n",
    "###### Here I fit a Random Forest Model and Check the classification performance based on the parameters mentioned above. \n",
    "###### The result shown is with the best fit model by the avg. cv score. The Approach in figuring out the performance was using different combinations for the estimators,depth and features."
   ]
  },
  {
   "cell_type": "code",
   "execution_count": 7,
   "metadata": {
    "collapsed": false,
    "scrolled": false
   },
   "outputs": [],
   "source": [
    "import sklearn\n",
    "from sklearn.ensemble import RandomForestClassifier\n",
    "from sklearn.cross_validation import cross_val_score\n",
    "from sklearn.metrics import roc_curve, auc\n",
    "import matplotlib.pyplot as plt\n",
    "import random\n",
    "model2 = RandomForestClassifier(n_estimators=30,max_depth=15,max_features=30)\n",
    "features = model2.fit(X_train, y_train)\n",
    "importances = features.feature_importances_\n",
    "indices = np.argsort(importances)[::-1]\n",
    "predicted = model2.predict(X_test)\n",
    "probs = model2.predict_proba(X_test)\n",
    "\n"
   ]
  },
  {
   "cell_type": "code",
   "execution_count": 4,
   "metadata": {
    "collapsed": false
   },
   "outputs": [
    {
     "name": "stdout",
     "output_type": "stream",
     "text": [
      "Accuracy of Random Forest Classifier 0.840142460569\n",
      "roc auc score of Random Forest Classifier 0.839915801256\n",
      "confusion Matrix [[39900 16015]\n",
      " [ 1894 54222]]\n",
      "classification report              precision    recall  f1-score   support\n",
      "\n",
      "          0       0.95      0.71      0.82     55915\n",
      "          1       0.77      0.97      0.86     56116\n",
      "\n",
      "avg / total       0.86      0.84      0.84    112031\n",
      "\n",
      "Mean score of cross validation 0.676771086232\n"
     ]
    }
   ],
   "source": [
    "print \"Accuracy of Random Forest Classifier\", sklearn.metrics.accuracy_score(y_test, predicted)\n",
    "print \"roc auc score of Random Forest Classifier\", sklearn.metrics.roc_auc_score(y_test, predicted)\n",
    "print \"confusion Matrix\", sklearn.metrics.confusion_matrix(y_test, predicted)\n",
    "print \"classification report\", sklearn.metrics.classification_report(y_test, predicted)\n",
    "scores = cross_val_score(model2, x_new, y_new, cv = 5)\n",
    "print \"Mean score of cross validation\", scores.mean()"
   ]
  },
  {
   "cell_type": "code",
   "execution_count": 163,
   "metadata": {
    "collapsed": false
   },
   "outputs": [],
   "source": [
    "false_positive_rate, true_positive_rate, thresholds = roc_curve(y_test,probs[:,1])\n",
    "roc_auc = auc(false_positive_rate, true_positive_rate)\n"
   ]
  },
  {
   "cell_type": "code",
   "execution_count": 164,
   "metadata": {
    "collapsed": false
   },
   "outputs": [
    {
     "data": {
      "image/png": "[encoded data removed]",
      "text/plain": [
       "<matplotlib.figure.Figure at 0xeb98978>"
      ]
     },
     "metadata": {},
     "output_type": "display_data"
    }
   ],
   "source": [
    "plt.title('Receiver Operating Characteristic')\n",
    "plt.plot(false_positive_rate, true_positive_rate, 'b',\n",
    "label='AUC = %0.2f'% roc_auc)\n",
    "plt.legend(loc='lower right')\n",
    "plt.plot([0,1],[0,1],'r--')\n",
    "plt.xlim([-0.1,1.2])\n",
    "plt.ylim([-0.1,1.2])\n",
    "plt.ylabel('True Positive Rate')\n",
    "plt.xlabel('False Positive Rate')\n",
    "plt.show()"
   ]
  },
  {
   "cell_type": "markdown",
   "metadata": {
    "collapsed": true
   },
   "source": [
    "### Result  :\n",
    "##### In case of Over Sampling, Random Forest performance the best with a AUC of 0.9, Accuracy of around 84% and 0.82 avg.precision score and 0.86 recall score"
   ]
  },
  {
   "cell_type": "code",
   "execution_count": null,
   "metadata": {
    "collapsed": true
   },
   "outputs": [],
   "source": []
  }
 ],
 "metadata": {
  "kernelspec": {
   "display_name": "Python 2",
   "language": "python",
   "name": "python2"
  },
  "language_info": {
   "codemirror_mode": {
    "name": "ipython",
    "version": 2
   },
   "file_extension": ".py",
   "mimetype": "text/x-python",
   "name": "python",
   "nbconvert_exporter": "python",
   "pygments_lexer": "ipython2",
   "version": "2.7.13"
  }
 },
 "nbformat": 4,
 "nbformat_minor": 2
}
